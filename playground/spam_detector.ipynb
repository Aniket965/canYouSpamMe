{
 "cells": [
  {
   "cell_type": "code",
   "execution_count": 1,
   "metadata": {},
   "outputs": [],
   "source": [
    "import numpy as np \n",
    "import pandas as pd\n",
    "import nltk\n",
    "from nltk.tokenize import RegexpTokenizer\n",
    "from sklearn.model_selection import train_test_split"
   ]
  },
  {
   "cell_type": "code",
   "execution_count": 2,
   "metadata": {},
   "outputs": [
    {
     "data": {
      "text/html": [
       "<div>\n",
       "<style scoped>\n",
       "    .dataframe tbody tr th:only-of-type {\n",
       "        vertical-align: middle;\n",
       "    }\n",
       "\n",
       "    .dataframe tbody tr th {\n",
       "        vertical-align: top;\n",
       "    }\n",
       "\n",
       "    .dataframe thead th {\n",
       "        text-align: right;\n",
       "    }\n",
       "</style>\n",
       "<table border=\"1\" class=\"dataframe\">\n",
       "  <thead>\n",
       "    <tr style=\"text-align: right;\">\n",
       "      <th></th>\n",
       "      <th>v1</th>\n",
       "      <th>v2</th>\n",
       "    </tr>\n",
       "  </thead>\n",
       "  <tbody>\n",
       "    <tr>\n",
       "      <th>709</th>\n",
       "      <td>spam</td>\n",
       "      <td>4mths half price Orange line rental &amp; latest c...</td>\n",
       "    </tr>\n",
       "    <tr>\n",
       "      <th>2332</th>\n",
       "      <td>ham</td>\n",
       "      <td>We are both fine. Thanks</td>\n",
       "    </tr>\n",
       "    <tr>\n",
       "      <th>4365</th>\n",
       "      <td>ham</td>\n",
       "      <td>Mm yes dear look how i am hugging you both. :-P</td>\n",
       "    </tr>\n",
       "    <tr>\n",
       "      <th>5551</th>\n",
       "      <td>ham</td>\n",
       "      <td>Wen did you get so spiritual and deep. That's ...</td>\n",
       "    </tr>\n",
       "    <tr>\n",
       "      <th>1647</th>\n",
       "      <td>ham</td>\n",
       "      <td>Evening * v good if somewhat event laden. Will...</td>\n",
       "    </tr>\n",
       "  </tbody>\n",
       "</table>\n",
       "</div>"
      ],
      "text/plain": [
       "        v1                                                 v2\n",
       "709   spam  4mths half price Orange line rental & latest c...\n",
       "2332   ham                           We are both fine. Thanks\n",
       "4365   ham    Mm yes dear look how i am hugging you both. :-P\n",
       "5551   ham  Wen did you get so spiritual and deep. That's ...\n",
       "1647   ham  Evening * v good if somewhat event laden. Will..."
      ]
     },
     "execution_count": 2,
     "metadata": {},
     "output_type": "execute_result"
    }
   ],
   "source": [
    "df = pd.read_csv('spam.csv',encoding='latin-1')\n",
    "df = df.drop(columns=['Unnamed: 2','Unnamed: 3','Unnamed: 4'])\n",
    "train, test = train_test_split(df, test_size=0.3)\n",
    "df = train \n",
    "df.head()"
   ]
  },
  {
   "cell_type": "markdown",
   "metadata": {},
   "source": [
    "## Detecting spam messages by Bayes' theorem 😅 ❤️"
   ]
  },
  {
   "cell_type": "code",
   "execution_count": 3,
   "metadata": {},
   "outputs": [],
   "source": [
    "p = df['v1'].value_counts()\n",
    "total = p.ham + p.spam\n",
    "p_of_a = p.ham / total\n",
    "p_of_not_a = p.spam /total"
   ]
  },
  {
   "cell_type": "code",
   "execution_count": 4,
   "metadata": {},
   "outputs": [],
   "source": [
    "spam_words = {}\n",
    "not_spam_words = {}\n",
    "total_spam_ws = 0\n",
    "total_not_spam_ws = 0\n",
    "for row in df.iterrows():\n",
    "    tokenizer = RegexpTokenizer(r'\\w+')\n",
    "    words = tokenizer.tokenize(row[1]['v2'])\n",
    "    for word in words:\n",
    "        if row[1]['v1'] == 'spam':\n",
    "            spam_words[word] = spam_words.get(word,0) + 1\n",
    "            total_spam_ws += 1\n",
    "        else:\n",
    "            not_spam_words[word] = not_spam_words.get(word,0) + 1\n",
    "            total_not_spam_ws += 1"
   ]
  },
  {
   "cell_type": "code",
   "execution_count": 5,
   "metadata": {},
   "outputs": [],
   "source": [
    "def c_prob_of_w(word,isspam):\n",
    "    try:\n",
    "        if isspam:\n",
    "            return spam_words[word]/ total_spam_ws\n",
    "        return not_spam_words[word] / total_not_spam_ws\n",
    "    except:\n",
    "        pass\n",
    "    return 1/2"
   ]
  },
  {
   "cell_type": "code",
   "execution_count": 6,
   "metadata": {},
   "outputs": [],
   "source": [
    "def c_prob_of_message(message,isspam):\n",
    "    r = 1\n",
    "    tokenizer = RegexpTokenizer(r'\\w+')\n",
    "    words = tokenizer.tokenize(message)\n",
    "    for word in words:\n",
    "        r *=  c_prob_of_w(word,isspam)\n",
    "    return r"
   ]
  },
  {
   "cell_type": "code",
   "execution_count": 7,
   "metadata": {},
   "outputs": [],
   "source": [
    "def isSpam(message):\n",
    "    cp_spam = c_prob_of_message(message,True)\n",
    "    cp_not_spam = c_prob_of_message(message,False)\n",
    "    lol_spam = p_of_a * cp_spam\n",
    "    lol_not_spam = p_of_not_a * cp_not_spam\n",
    "    return lol_spam > lol_not_spam"
   ]
  },
  {
   "cell_type": "code",
   "execution_count": 8,
   "metadata": {},
   "outputs": [],
   "source": [
    "def t_f(v1):\n",
    "    if(v1 == 'spam'):\n",
    "        return True\n",
    "    return False"
   ]
  },
  {
   "cell_type": "code",
   "execution_count": 9,
   "metadata": {},
   "outputs": [
    {
     "name": "stdout",
     "output_type": "stream",
     "text": [
      "10.825358851674642\n"
     ]
    }
   ],
   "source": [
    "total = 0\n",
    "positive = 0\n",
    "negative = 0\n",
    "for row in test.iterrows():\n",
    "    if t_f(row[1]['v1']) == isSpam(row[1]['v2']):\n",
    "        positive += 1\n",
    "    else:\n",
    "        negative += 1\n",
    "    total +=1\n",
    "print((positive / total) * 100)"
   ]
  },
  {
   "cell_type": "markdown",
   "metadata": {},
   "source": [
    "## Exporting the model 🎫 in kaam chalu manner"
   ]
  },
  {
   "cell_type": "code",
   "execution_count": 10,
   "metadata": {},
   "outputs": [],
   "source": [
    "model = {}\n",
    "model['spamWords'] = spam_words\n",
    "model['notSpamWords'] = not_spam_words\n",
    "model['totalSpamWs'] = total_spam_ws\n",
    "model['totalNotSpamWs'] = total_not_spam_ws\n",
    "model['pOfA'] = p_of_a\n",
    "model['pOfNotA'] = p_of_not_a"
   ]
  },
  {
   "cell_type": "code",
   "execution_count": 11,
   "metadata": {},
   "outputs": [],
   "source": [
    "# f = open('model.json','wb+')\n",
    "# f.write(str(model).encode('utf-8'))\n",
    "# f.close()"
   ]
  },
  {
   "cell_type": "code",
   "execution_count": null,
   "metadata": {},
   "outputs": [],
   "source": []
  }
 ],
 "metadata": {
  "kernelspec": {
   "display_name": "Python 3",
   "language": "python",
   "name": "python3"
  },
  "language_info": {
   "codemirror_mode": {
    "name": "ipython",
    "version": 3
   },
   "file_extension": ".py",
   "mimetype": "text/x-python",
   "name": "python",
   "nbconvert_exporter": "python",
   "pygments_lexer": "ipython3",
   "version": "3.5.4"
  }
 },
 "nbformat": 4,
 "nbformat_minor": 2
}
